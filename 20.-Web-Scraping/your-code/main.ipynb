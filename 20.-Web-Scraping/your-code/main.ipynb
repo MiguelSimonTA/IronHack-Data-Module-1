{
 "cells": [
  {
   "cell_type": "markdown",
   "metadata": {},
   "source": [
    "# Web Scraping\n",
    "You will find in this notebook some scrapy exercises to practise your scraping skills. Remember:\n",
    "- To get each request status code to ensure you get the proper response from the web.\n",
    "- To print the response text in each request to evaluate the what kind of info you are getting and its format.\n",
    "- To check for patterns in the response text to extract the data/info requested in each question.\n",
    "- To visit each url and take a look on its code through Chrome developer tool."
   ]
  },
  {
   "cell_type": "markdown",
   "metadata": {},
   "source": [
    "**All the libraries and modules you will need are included below. Feel free to explore other libraries i.e. scrapy**"
   ]
  },
  {
   "cell_type": "code",
   "execution_count": 1,
   "metadata": {},
   "outputs": [],
   "source": [
    "import requests;\n",
    "from pprint import pprint;\n",
    "from bs4 import BeautifulSoup;\n",
    "import scrapy;\n",
    "from lxml import html;\n",
    "from lxml.html import fromstring;\n",
    "import urllib.request;\n",
    "from urllib.request import urlopen;\n",
    "import random;\n",
    "import re;\n",
    "import pandas as pd;"
   ]
  },
  {
   "cell_type": "markdown",
   "metadata": {},
   "source": [
    "### 1. Download and display the content of robot.txt for Wikipedia"
   ]
  },
  {
   "cell_type": "markdown",
   "metadata": {},
   "source": [
    "Check [here](http://www.robotstxt.org/robotstxt.html) to know more about ***robot.txt***"
   ]
  },
  {
   "cell_type": "code",
   "execution_count": 2,
   "metadata": {},
   "outputs": [
    {
     "data": {
      "text/plain": [
       "<html><body><p># robots.txt for http://www.wikipedia.org/ and friends\n",
       "#\n",
       "# Please note: There are a lot of pages on this site, and there are\n",
       "# some misbehaved spiders out there that go _way_ too fast. If you're\n",
       "# irresponsible, your access to the site may be blocked.\n",
       "#\n",
       "\n",
       "# Observed spamming large amounts of https://en.wikipedia.org/?curid=NNNNNN\n",
       "# and ignoring 429 ratelimit responses, claims to respect robots:\n",
       "# http://mj12bot.com/\n",
       "User-agent: MJ12bot\n",
       "Disallow: /\n",
       "\n",
       "# advertising-related bots:\n",
       "User-agent: Mediapartners-Google*\n",
       "Disallow: /\n",
       "\n",
       "# Wikipedia work bots:\n",
       "User-agent: IsraBot\n",
       "Disallow:\n",
       "\n",
       "User-agent: Orthogaffe\n",
       "Disallow:\n",
       "\n",
       "# Crawlers that are kind enough to obey, but which we'd rather not have\n",
       "# unless they're feeding search engines.\n",
       "User-agent: UbiCrawler\n",
       "Disallow: /\n",
       "\n",
       "User-agent: DOC\n",
       "Disallow: /\n",
       "\n",
       "User-agent: Zao\n",
       "Disallow: /\n",
       "\n",
       "# Some bots are known to be trouble, particularly those designed to copy\n",
       "# entire sites. Please obey robots.txt.\n",
       "User-agent: sitecheck.internetseer.com\n",
       "Disallow: /\n",
       "\n",
       "User-agent: Zealbot\n",
       "Disallow: /\n",
       "\n",
       "User-agent: MSIECrawler\n",
       "Disallow: /\n",
       "\n",
       "User-agent: SiteSnagger\n",
       "Disallow: /\n",
       "\n",
       "User-agent: WebStripper\n",
       "Disallow: /\n",
       "\n",
       "User-agent: WebCopier\n",
       "Disallow: /\n",
       "\n",
       "User-agent: Fetch\n",
       "Disallow: /\n",
       "\n",
       "User-agent: Offline Explorer\n",
       "Disallow: /\n",
       "\n",
       "User-agent: Teleport\n",
       "Disallow: /\n",
       "\n",
       "User-agent: TeleportPro\n",
       "Disallow: /\n",
       "\n",
       "User-agent: WebZIP\n",
       "Disallow: /\n",
       "\n",
       "User-agent: linko\n",
       "Disallow: /\n",
       "\n",
       "User-agent: HTTrack\n",
       "Disallow: /\n",
       "\n",
       "User-agent: Microsoft.URL.Control\n",
       "Disallow: /\n",
       "\n",
       "User-agent: Xenu\n",
       "Disallow: /\n",
       "\n",
       "User-agent: larbin\n",
       "Disallow: /\n",
       "\n",
       "User-agent: libwww\n",
       "Disallow: /\n",
       "\n",
       "User-agent: ZyBORG\n",
       "Disallow: /\n",
       "\n",
       "User-agent: Download Ninja\n",
       "Disallow: /\n",
       "\n",
       "# Misbehaving: requests much too fast:\n",
       "User-agent: fast\n",
       "Disallow: /\n",
       "\n",
       "#\n",
       "# Sorry, wget in its recursive mode is a frequent problem.\n",
       "# Please read the man page and use it properly; there is a\n",
       "# --wait option you can use to set the delay between hits,\n",
       "# for instance.\n",
       "#\n",
       "User-agent: wget\n",
       "Disallow: /\n",
       "\n",
       "#\n",
       "# The 'grub' distributed client has been *very* poorly behaved.\n",
       "#\n",
       "User-agent: grub-client\n",
       "Disallow: /\n",
       "\n",
       "#\n",
       "# Doesn't follow robots.txt anyway, but...\n",
       "#\n",
       "User-agent: k2spider\n",
       "Disallow: /\n",
       "\n",
       "#\n",
       "# Hits many times per second, not acceptable\n",
       "# http://www.nameprotect.com/botinfo.html\n",
       "User-agent: NPBot\n",
       "Disallow: /\n",
       "\n",
       "# A capture bot, downloads gazillions of pages with no public benefit\n",
       "# http://www.webreaper.net/\n",
       "User-agent: WebReaper\n",
       "Disallow: /\n",
       "\n",
       "# Wayback Machine: defaults and whether to index user-pages\n",
       "# FIXME: Complete the removal of this block, per T7582.\n",
       "# User-agent: archive.org_bot\n",
       "# Allow: /\n",
       "\n",
       "\n",
       "#\n",
       "# Friendly, low-speed bots are welcome viewing article pages, but not\n",
       "# dynamically-generated pages please.\n",
       "#\n",
       "# Inktomi's \"Slurp\" can read a minimum delay between hits; if your\n",
       "# bot supports such a thing using the 'Crawl-delay' or another\n",
       "# instruction, please let us know.\n",
       "#\n",
       "# There is a special exception for API mobileview to allow dynamic\n",
       "# mobile web &amp; app views to load section content.\n",
       "# These views aren't HTTP-cached but use parser cache aggressively\n",
       "# and don't expose special: pages etc.\n",
       "#\n",
       "# Another exception is for REST API documentation, located at\n",
       "# /api/rest_v1/?doc.\n",
       "#\n",
       "User-agent: *\n",
       "Allow: /w/api.php?action=mobileview&amp;\n",
       "Allow: /w/load.php?\n",
       "Allow: /api/rest_v1/?doc\n",
       "Disallow: /w/\n",
       "Disallow: /api/\n",
       "Disallow: /trap/\n",
       "Disallow: /wiki/Special:\n",
       "Disallow: /wiki/Spezial:\n",
       "Disallow: /wiki/Spesial:\n",
       "Disallow: /wiki/Special%3A\n",
       "Disallow: /wiki/Spezial%3A\n",
       "Disallow: /wiki/Spesial%3A\n",
       "\n",
       "#\n",
       "# ar:\n",
       "Disallow: /wiki/%D8%AE%D8%A7%D8%B5:Search\n",
       "Disallow: /wiki/%D8%AE%D8%A7%D8%B5%3ASearch\n",
       "#\n",
       "# dewiki:\n",
       "# T6937\n",
       "# sensible deletion and meta user discussion pages:\n",
       "Disallow: /wiki/Wikipedia:L%C3%B6schkandidaten/\n",
       "Disallow: /wiki/Wikipedia:Löschkandidaten/\n",
       "Disallow: /wiki/Wikipedia:Vandalensperrung/\n",
       "Disallow: /wiki/Wikipedia:Benutzersperrung/\n",
       "Disallow: /wiki/Wikipedia:Vermittlungsausschuss/\n",
       "Disallow: /wiki/Wikipedia:Administratoren/Probleme/\n",
       "Disallow: /wiki/Wikipedia:Adminkandidaturen/\n",
       "Disallow: /wiki/Wikipedia:Qualitätssicherung/\n",
       "Disallow: /wiki/Wikipedia:Qualit%C3%A4tssicherung/\n",
       "# 4937#5\n",
       "Disallow: /wiki/Wikipedia:Vandalismusmeldung/\n",
       "Disallow: /wiki/Wikipedia:Gesperrte_Lemmata/\n",
       "Disallow: /wiki/Wikipedia:Löschprüfung/\n",
       "Disallow: /wiki/Wikipedia:L%C3%B6schprüfung/\n",
       "Disallow: /wiki/Wikipedia:Administratoren/Notizen/\n",
       "Disallow: /wiki/Wikipedia:Schiedsgericht/Anfragen/\n",
       "Disallow: /wiki/Wikipedia:L%C3%B6schpr%C3%BCfung/\n",
       "# T14111\n",
       "Disallow: /wiki/Wikipedia:Checkuser/\n",
       "Disallow: /wiki/Wikipedia_Diskussion:Checkuser/\n",
       "Disallow: /wiki/Wikipedia_Diskussion:Adminkandidaturen/\n",
       "# T15961\n",
       "Disallow: /wiki/Wikipedia:Spam-Blacklist-Log\n",
       "Disallow: /wiki/Wikipedia%3ASpam-Blacklist-Log\n",
       "Disallow: /wiki/Wikipedia_Diskussion:Spam-Blacklist-Log\n",
       "Disallow: /wiki/Wikipedia_Diskussion%3ASpam-Blacklist-Log\n",
       "#\n",
       "# enwiki:\n",
       "# Folks get annoyed when VfD discussions end up the number 1 google hit for\n",
       "# their name. See T6776\n",
       "Disallow: /wiki/Wikipedia:Articles_for_deletion/\n",
       "Disallow: /wiki/Wikipedia%3AArticles_for_deletion/\n",
       "Disallow: /wiki/Wikipedia:Votes_for_deletion/\n",
       "Disallow: /wiki/Wikipedia%3AVotes_for_deletion/\n",
       "Disallow: /wiki/Wikipedia:Pages_for_deletion/\n",
       "Disallow: /wiki/Wikipedia%3APages_for_deletion/\n",
       "Disallow: /wiki/Wikipedia:Miscellany_for_deletion/\n",
       "Disallow: /wiki/Wikipedia%3AMiscellany_for_deletion/\n",
       "Disallow: /wiki/Wikipedia:Miscellaneous_deletion/\n",
       "Disallow: /wiki/Wikipedia%3AMiscellaneous_deletion/\n",
       "Disallow: /wiki/Wikipedia:Copyright_problems\n",
       "Disallow: /wiki/Wikipedia%3ACopyright_problems\n",
       "Disallow: /wiki/Wikipedia:Protected_titles/\n",
       "Disallow: /wiki/Wikipedia%3AProtected_titles/\n",
       "# T15398\n",
       "Disallow: /wiki/Wikipedia:WikiProject_Spam/\n",
       "Disallow: /wiki/Wikipedia%3AWikiProject_Spam/\n",
       "# T16075\n",
       "Disallow: /wiki/MediaWiki:Spam-blacklist\n",
       "Disallow: /wiki/MediaWiki%3ASpam-blacklist\n",
       "Disallow: /wiki/MediaWiki_talk:Spam-blacklist\n",
       "Disallow: /wiki/MediaWiki_talk%3ASpam-blacklist\n",
       "# T13261\n",
       "Disallow: /wiki/Wikipedia:Requests_for_arbitration/\n",
       "Disallow: /wiki/Wikipedia%3ARequests_for_arbitration/\n",
       "Disallow: /wiki/Wikipedia:Requests_for_comment/\n",
       "Disallow: /wiki/Wikipedia%3ARequests_for_comment/\n",
       "Disallow: /wiki/Wikipedia:Requests_for_adminship/\n",
       "Disallow: /wiki/Wikipedia%3ARequests_for_adminship/\n",
       "# T12288\n",
       "Disallow: /wiki/Wikipedia_talk:Articles_for_deletion/\n",
       "Disallow: /wiki/Wikipedia_talk%3AArticles_for_deletion/\n",
       "Disallow: /wiki/Wikipedia_talk:Votes_for_deletion/\n",
       "Disallow: /wiki/Wikipedia_talk%3AVotes_for_deletion/\n",
       "Disallow: /wiki/Wikipedia_talk:Pages_for_deletion/\n",
       "Disallow: /wiki/Wikipedia_talk%3APages_for_deletion/\n",
       "Disallow: /wiki/Wikipedia_talk:Miscellany_for_deletion/\n",
       "Disallow: /wiki/Wikipedia_talk%3AMiscellany_for_deletion/\n",
       "Disallow: /wiki/Wikipedia_talk:Miscellaneous_deletion/\n",
       "Disallow: /wiki/Wikipedia_talk%3AMiscellaneous_deletion/\n",
       "# T16793\n",
       "Disallow: /wiki/Wikipedia:Changing_username\n",
       "Disallow: /wiki/Wikipedia%3AChanging_username\n",
       "Disallow: /wiki/Wikipedia:Changing_username/\n",
       "Disallow: /wiki/Wikipedia%3AChanging_username/\n",
       "Disallow: /wiki/Wikipedia_talk:Changing_username\n",
       "Disallow: /wiki/Wikipedia_talk%3AChanging_username\n",
       "Disallow: /wiki/Wikipedia_talk:Changing_username/\n",
       "Disallow: /wiki/Wikipedia_talk%3AChanging_username/\n",
       "#\n",
       "# eswiki:\n",
       "# T8746\n",
       "Disallow: /wiki/Wikipedia:Consultas_de_borrado/\n",
       "Disallow: /wiki/Wikipedia%3AConsultas_de_borrado/\n",
       "#\n",
       "# fiwiki:\n",
       "# T10695\n",
       "Disallow: /wiki/Wikipedia:Poistettavat_sivut\n",
       "Disallow: /wiki/K%C3%A4ytt%C3%A4j%C3%A4:\n",
       "Disallow: /wiki/Käyttäjä:\n",
       "Disallow: /wiki/Keskustelu_k%C3%A4ytt%C3%A4j%C3%A4st%C3%A4:\n",
       "Disallow: /wiki/Keskustelu_käyttäjästä:\n",
       "Disallow: /wiki/Wikipedia:Yll%C3%A4pit%C3%A4j%C3%A4t/\n",
       "Disallow: /wiki/Wikipedia:Ylläpitäjät/\n",
       "#\n",
       "# hewiki:\n",
       "Disallow: /wiki/%D7%9E%D7%99%D7%95%D7%97%D7%93:Search\n",
       "Disallow: /wiki/%D7%9E%D7%99%D7%95%D7%97%D7%93%3ASearch\n",
       "#T11517\n",
       "Disallow: /wiki/ויקיפדיה:רשימת_מועמדים_למחיקה/\n",
       "Disallow: /wiki/ויקיפדיה%3Aרשימת_מועמדים_למחיקה/\n",
       "Disallow: /wiki/%D7%95%D7%99%D7%A7%D7%99%D7%A4%D7%93%D7%99%D7%94:%D7%A8%D7%A9%D7%99%D7%9E%D7%AA_%D7%9E%D7%95%D7%A2%D7%9E%D7%93%D7%99%D7%9D_%D7%9C%D7%9E%D7%97%D7%99%D7%A7%D7%94/\n",
       "Disallow: /wiki/%D7%95%D7%99%D7%A7%D7%99%D7%A4%D7%93%D7%99%D7%94%3A%D7%A8%D7%A9%D7%99%D7%9E%D7%AA_%D7%9E%D7%95%D7%A2%D7%9E%D7%93%D7%99%D7%9D_%D7%9C%D7%9E%D7%97%D7%99%D7%A7%D7%94/\n",
       "Disallow: /wiki/ויקיפדיה:ערכים_לא_קיימים_ומוגנים\n",
       "Disallow: /wiki/ויקיפדיה%3Aערכים_לא_קיימים_ומוגנים\n",
       "Disallow: /wiki/%D7%95%D7%99%D7%A7%D7%99%D7%A4%D7%93%D7%99%D7%94:%D7%A2%D7%A8%D7%9B%D7%99%D7%9D_%D7%9C%D7%90_%D7%A7%D7%99%D7%99%D7%9E%D7%99%D7%9D_%D7%95%D7%9E%D7%95%D7%92%D7%A0%D7%99%D7%9D\n",
       "Disallow: /wiki/%D7%95%D7%99%D7%A7%D7%99%D7%A4%D7%93%D7%99%D7%94%3A%D7%A2%D7%A8%D7%9B%D7%99%D7%9D_%D7%9C%D7%90_%D7%A7%D7%99%D7%99%D7%9E%D7%99%D7%9D_%D7%95%D7%9E%D7%95%D7%92%D7%A0%D7%99%D7%9D\n",
       "Disallow: /wiki/ויקיפדיה:דפים_לא_קיימים_ומוגנים\n",
       "Disallow: /wiki/ויקיפדיה%3Aדפים_לא_קיימים_ומוגנים\n",
       "Disallow: /wiki/%D7%95%D7%99%D7%A7%D7%99%D7%A4%D7%93%D7%99%D7%94:%D7%93%D7%A4%D7%99%D7%9D_%D7%9C%D7%90_%D7%A7%D7%99%D7%99%D7%9E%D7%99%D7%9D_%D7%95%D7%9E%D7%95%D7%92%D7%A0%D7%99%D7%9D\n",
       "Disallow: /wiki/%D7%95%D7%99%D7%A7%D7%99%D7%A4%D7%93%D7%99%D7%94%3A%D7%93%D7%A4%D7%99%D7%9D_%D7%9C%D7%90_%D7%A7%D7%99%D7%99%D7%9E%D7%99%D7%9D_%D7%95%D7%9E%D7%95%D7%92%D7%A0%D7%99%D7%9D\n",
       "#\n",
       "# huwiki:\n",
       "Disallow: /wiki/Speci%C3%A1lis:Search\n",
       "Disallow: /wiki/Speci%C3%A1lis%3ASearch\n",
       "#\n",
       "# itwiki:\n",
       "# T7545\n",
       "Disallow: /wiki/Wikipedia:Pagine_da_cancellare\n",
       "Disallow: /wiki/Wikipedia%3APagine_da_cancellare\n",
       "Disallow: /wiki/Wikipedia:Utenti_problematici\n",
       "Disallow: /wiki/Wikipedia%3AUtenti_problematici\n",
       "Disallow: /wiki/Wikipedia:Vandalismi_in_corso\n",
       "Disallow: /wiki/Wikipedia%3AVandalismi_in_corso\n",
       "Disallow: /wiki/Wikipedia:Amministratori\n",
       "Disallow: /wiki/Wikipedia%3AAmministratori\n",
       "Disallow: /wiki/Wikipedia:Proposte_di_cancellazione_semplificata\n",
       "Disallow: /wiki/Wikipedia%3AProposte_di_cancellazione_semplificata\n",
       "Disallow: /wiki/Categoria:Da_cancellare_subito\n",
       "Disallow: /wiki/Categoria%3ADa_cancellare_subito\n",
       "Disallow: /wiki/Wikipedia:Sospette_violazioni_di_copyright\n",
       "Disallow: /wiki/Wikipedia%3ASospette_violazioni_di_copyright\n",
       "Disallow: /wiki/Categoria:Da_controllare_per_copyright\n",
       "Disallow: /wiki/Categoria%3ADa_controllare_per_copyright\n",
       "Disallow: /wiki/Progetto:Rimozione_contributi_sospetti\n",
       "Disallow: /wiki/Progetto%3ARimozione_contributi_sospetti\n",
       "Disallow: /wiki/Categoria:Da_cancellare_subito_per_violazione_integrale_copyright\n",
       "Disallow: /wiki/Categoria%3ADa_cancellare_subito_per_violazione_integrale_copyright\n",
       "Disallow: /wiki/Progetto:Cococo\n",
       "Disallow: /wiki/Progetto%3ACococo\n",
       "Disallow: /wiki/Discussioni_progetto:Cococo\n",
       "Disallow: /wiki/Discussioni_progetto%3ACococo\n",
       "#\n",
       "# jawiki\n",
       "Disallow: /wiki/%E7%89%B9%E5%88%A5:Search\n",
       "Disallow: /wiki/%E7%89%B9%E5%88%A5%3ASearch\n",
       "# T7239\n",
       "Disallow: /wiki/Wikipedia:%E5%89%8A%E9%99%A4%E4%BE%9D%E9%A0%BC/\n",
       "Disallow: /wiki/Wikipedia%3A%E5%89%8A%E9%99%A4%E4%BE%9D%E9%A0%BC/\n",
       "Disallow: /wiki/Wikipedia:%E5%88%A9%E7%94%A8%E8%80%85%E3%83%9A%E3%83%BC%E3%82%B8%E3%81%AE%E5%89%8A%E9%99%A4%E4%BE%9D%E9%A0%BC\n",
       "Disallow: /wiki/Wikipedia%3A%E5%88%A9%E7%94%A8%E8%80%85%E3%83%9A%E3%83%BC%E3%82%B8%E3%81%AE%E5%89%8A%E9%99%A4%E4%BE%9D%E9%A0%BC\n",
       "# nowiki\n",
       "# T13432\n",
       "Disallow: /wiki/Bruker:\n",
       "Disallow: /wiki/Bruker%3A\n",
       "Disallow: /wiki/Brukerdiskusjon\n",
       "Disallow: /wiki/Wikipedia:Administratorer\n",
       "Disallow: /wiki/Wikipedia%3AAdministratorer\n",
       "Disallow: /wiki/Wikipedia-diskusjon:Administratorer\n",
       "Disallow: /wiki/Wikipedia-diskusjon%3AAdministratorer\n",
       "Disallow: /wiki/Wikipedia:Sletting\n",
       "Disallow: /wiki/Wikipedia%3ASletting\n",
       "Disallow: /wiki/Wikipedia-diskusjon:Sletting\n",
       "Disallow: /wiki/Wikipedia-diskusjon%3ASletting\n",
       "#\n",
       "# plwiki\n",
       "# T10067\n",
       "Disallow: /wiki/Wikipedia:Strony_do_usuni%C4%99cia\n",
       "Disallow: /wiki/Wikipedia%3AStrony_do_usuni%C4%99cia\n",
       "Disallow: /wiki/Wikipedia:Do_usuni%C4%99cia\n",
       "Disallow: /wiki/Wikipedia%3ADo_usuni%C4%99cia\n",
       "Disallow: /wiki/Wikipedia:SDU/\n",
       "Disallow: /wiki/Wikipedia%3ASDU/\n",
       "Disallow: /wiki/Wikipedia:Strony_podejrzane_o_naruszenie_praw_autorskich\n",
       "Disallow: /wiki/Wikipedia%3AStrony_podejrzane_o_naruszenie_praw_autorskich\n",
       "#\n",
       "# ptwiki:\n",
       "# T7394\n",
       "Disallow: /wiki/Wikipedia:Páginas_para_eliminar/\n",
       "Disallow: /wiki/Wikipedia:P%C3%A1ginas_para_eliminar/\n",
       "Disallow: /wiki/Wikipedia%3AP%C3%A1ginas_para_eliminar/\n",
       "Disallow: /wiki/Wikipedia_Discussão:Páginas_para_eliminar/\n",
       "Disallow: /wiki/Wikipedia_Discuss%C3%A3o:P%C3%A1ginas_para_eliminar/\n",
       "Disallow: /wiki/Wikipedia_Discuss%C3%A3o%3AP%C3%A1ginas_para_eliminar/\n",
       "#\n",
       "# rowiki:\n",
       "# T14546\n",
       "Disallow: /wiki/Wikipedia:Pagini_de_%C5%9Fters\n",
       "Disallow: /wiki/Wikipedia%3APagini_de_%C5%9Fters\n",
       "Disallow: /wiki/Discu%C5%A3ie_Wikipedia:Pagini_de_%C5%9Fters\n",
       "Disallow: /wiki/Discu%C5%A3ie_Wikipedia%3APagini_de_%C5%9Fters\n",
       "#\n",
       "# ruwiki:\n",
       "Disallow: /wiki/%D0%A1%D0%BF%D0%B5%D1%86%D0%B8%D0%B0%D0%BB%D1%8C%D0%BD%D1%8B%D0%B5:Search\n",
       "Disallow: /wiki/%D0%A1%D0%BF%D0%B5%D1%86%D0%B8%D0%B0%D0%BB%D1%8C%D0%BD%D1%8B%D0%B5%3ASearch\n",
       "#\n",
       "# svwiki:\n",
       "# T12229\n",
       "Disallow: /wiki/Wikipedia%3ASidor_f%C3%B6reslagna_f%C3%B6r_radering\n",
       "Disallow: /wiki/Wikipedia:Sidor_f%C3%B6reslagna_f%C3%B6r_radering\n",
       "Disallow: /wiki/Wikipedia:Sidor_föreslagna_för_radering\n",
       "Disallow: /wiki/Användare\n",
       "Disallow: /wiki/Anv%C3%A4ndare\n",
       "Disallow: /wiki/Användardiskussion\n",
       "Disallow: /wiki/Anv%C3%A4ndardiskussion\n",
       "Disallow: /wiki/Wikipedia:Skyddade_sidnamn\n",
       "Disallow: /wiki/Wikipedia%3ASkyddade_sidnamn\n",
       "# T13291\n",
       "Disallow: /wiki/Wikipedia:Sidor_som_bör_raderas\n",
       "Disallow: /wiki/Wikipedia:Sidor_som_b%C3%B6r_raderas\n",
       "Disallow: /wiki/Wikipedia%3ASidor_som_b%C3%B6r_raderas\n",
       "#\n",
       "# zhwiki:\n",
       "# T7104\n",
       "Disallow: /wiki/Wikipedia:删除投票/侵权\n",
       "Disallow: /wiki/Wikipedia:%E5%88%A0%E9%99%A4%E6%8A%95%E7%A5%A8/%E4%BE%B5%E6%9D%83\n",
       "Disallow: /wiki/Wikipedia:删除投票和请求\n",
       "Disallow: /wiki/Wikipedia:%E5%88%A0%E9%99%A4%E6%8A%95%E7%A5%A8%E5%92%8C%E8%AF%B7%E6%B1%82\n",
       "Disallow: /wiki/Category:快速删除候选\n",
       "Disallow: /wiki/Category:%E5%BF%AB%E9%80%9F%E5%88%A0%E9%99%A4%E5%80%99%E9%80%89\n",
       "Disallow: /wiki/Category:维基百科需要翻译的文章\n",
       "Disallow: /wiki/Category:%E7%BB%B4%E5%9F%BA%E7%99%BE%E7%A7%91%E9%9C%80%E8%A6%81%E7%BF%BB%E8%AF%91%E7%9A%84%E6%96%87%E7%AB%A0\n",
       "#\n",
       "# sister projects\n",
       "#\n",
       "# enwikinews:\n",
       "# T7340\n",
       "Disallow: /wiki/Portal:Prepared_stories/\n",
       "Disallow: /wiki/Portal%3APrepared_stories/\n",
       "#\n",
       "# itwikinews\n",
       "# T11138\n",
       "Disallow: /wiki/Wikinotizie:Richieste_di_cancellazione\n",
       "Disallow: /wiki/Wikinotizie:Sospette_violazioni_di_copyright\n",
       "Disallow: /wiki/Categoria:Da_cancellare_subito\n",
       "Disallow: /wiki/Categoria:Da_cancellare_subito_per_violazione_integrale_copyright\n",
       "Disallow: /wiki/Wikinotizie:Storie_in_preparazione\n",
       "#\n",
       "# enwikiquote:\n",
       "# T17095\n",
       "Disallow: /wiki/Wikiquote:Votes_for_deletion/\n",
       "Disallow: /wiki/Wikiquote%3AVotes_for_deletion/\n",
       "Disallow: /wiki/Wikiquote_talk:Votes_for_deletion/\n",
       "Disallow: /wiki/Wikiquote_talk%3AVotes_for_deletion/\n",
       "Disallow: /wiki/Wikiquote:Votes_for_deletion_archive/\n",
       "Disallow: /wiki/Wikiquote%3AVotes_for_deletion_archive/\n",
       "Disallow: /wiki/Wikiquote_talk:Votes_for_deletion_archive/\n",
       "Disallow: /wiki/Wikiquote_talk%3AVotes_for_deletion_archive/\n",
       "#\n",
       "# enwikibooks\n",
       "Disallow: /wiki/Wikibooks:Votes_for_deletion\n",
       "#\n",
       "# working...\n",
       "Disallow: /wiki/Fundraising_2007/comments\n",
       "#\n",
       "#\n",
       "#\n",
       "#----------------------------------------------------------#\n",
       "#\n",
       "#\n",
       "#\n",
       " # <!-- Please do not remove the space at the start of this line, it breaks the rendering.  http://www.robotstxt.org/orig.html says spaces before comments are OK. --></p><pre>\n",
       "#\n",
       "# Localisable part of robots.txt for en.wikipedia.org\n",
       "#\n",
       "# Edit at https://en.wikipedia.org/w/index.php?title=MediaWiki:Robots.txt&amp;action=edit\n",
       "# Don't add newlines here. All rules set here are active for every user-agent.\n",
       "#\n",
       "# Please check any changes using a syntax validator such as http://tool.motoricerca.info/robots-checker.phtml\n",
       "# Enter https://en.wikipedia.org/robots.txt as the URL to check.\n",
       "#\n",
       "# https://phabricator.wikimedia.org/T16075\n",
       "Disallow: /wiki/MediaWiki:Spam-blacklist\n",
       "Disallow: /wiki/MediaWiki%3ASpam-blacklist\n",
       "Disallow: /wiki/MediaWiki_talk:Spam-blacklist\n",
       "Disallow: /wiki/MediaWiki_talk%3ASpam-blacklist\n",
       "Disallow: /wiki/Wikipedia:WikiProject_Spam\n",
       "Disallow: /wiki/Wikipedia_talk:WikiProject_Spam\n",
       "#\n",
       "# Folks get annoyed when XfD discussions end up the number 1 google hit for\n",
       "# their name. \n",
       "# https://phabricator.wikimedia.org/T16075\n",
       "Disallow: /wiki/Wikipedia:Articles_for_deletion\n",
       "Disallow: /wiki/Wikipedia%3AArticles_for_deletion\n",
       "Disallow: /wiki/Wikipedia:Votes_for_deletion\n",
       "Disallow: /wiki/Wikipedia%3AVotes_for_deletion\n",
       "Disallow: /wiki/Wikipedia:Pages_for_deletion\n",
       "Disallow: /wiki/Wikipedia%3APages_for_deletion\n",
       "Disallow: /wiki/Wikipedia:Miscellany_for_deletion\n",
       "Disallow: /wiki/Wikipedia%3AMiscellany_for_deletion\n",
       "Disallow: /wiki/Wikipedia:Miscellaneous_deletion\n",
       "Disallow: /wiki/Wikipedia%3AMiscellaneous_deletion\n",
       "Disallow: /wiki/Wikipedia:Categories_for_discussion\n",
       "Disallow: /wiki/Wikipedia%3ACategories_for_discussion\n",
       "Disallow: /wiki/Wikipedia:Templates_for_deletion\n",
       "Disallow: /wiki/Wikipedia%3ATemplates_for_deletion\n",
       "Disallow: /wiki/Wikipedia:Redirects_for_discussion\n",
       "Disallow: /wiki/Wikipedia%3ARedirects_for_discussion\n",
       "Disallow: /wiki/Wikipedia:Deletion_review\n",
       "Disallow: /wiki/Wikipedia%3ADeletion_review\n",
       "Disallow: /wiki/Wikipedia:WikiProject_Deletion_sorting\n",
       "Disallow: /wiki/Wikipedia%3AWikiProject_Deletion_sorting\n",
       "Disallow: /wiki/Wikipedia:Files_for_deletion\n",
       "Disallow: /wiki/Wikipedia%3AFiles_for_deletion\n",
       "Disallow: /wiki/Wikipedia:Files_for_discussion\n",
       "Disallow: /wiki/Wikipedia%3AFiles_for_discussion\n",
       "Disallow: /wiki/Wikipedia:Possibly_unfree_files\n",
       "Disallow: /wiki/Wikipedia%3APossibly_unfree_files\n",
       "#\n",
       "# https://phabricator.wikimedia.org/T12288\n",
       "Disallow: /wiki/Wikipedia_talk:Articles_for_deletion\n",
       "Disallow: /wiki/Wikipedia_talk%3AArticles_for_deletion\n",
       "Disallow: /wiki/Wikipedia_talk:Votes_for_deletion\n",
       "Disallow: /wiki/Wikipedia_talk%3AVotes_for_deletion\n",
       "Disallow: /wiki/Wikipedia_talk:Pages_for_deletion\n",
       "Disallow: /wiki/Wikipedia_talk%3APages_for_deletion\n",
       "Disallow: /wiki/Wikipedia_talk:Miscellany_for_deletion\n",
       "Disallow: /wiki/Wikipedia_talk%3AMiscellany_for_deletion\n",
       "Disallow: /wiki/Wikipedia_talk:Miscellaneous_deletion\n",
       "Disallow: /wiki/Wikipedia_talk%3AMiscellaneous_deletion\n",
       "Disallow: /wiki/Wikipedia_talk:Templates_for_deletion\n",
       "Disallow: /wiki/Wikipedia_talk%3ATemplates_for_deletion\n",
       "Disallow: /wiki/Wikipedia_talk:Categories_for_discussion\n",
       "Disallow: /wiki/Wikipedia_talk%3ACategories_for_discussion\n",
       "Disallow: /wiki/Wikipedia_talk:Deletion_review\n",
       "Disallow: /wiki/Wikipedia_talk%3ADeletion_review\n",
       "Disallow: /wiki/Wikipedia_talk:WikiProject_Deletion_sorting\n",
       "Disallow: /wiki/Wikipedia_talk%3AWikiProject_Deletion_sorting\n",
       "Disallow: /wiki/Wikipedia_talk:Files_for_deletion\n",
       "Disallow: /wiki/Wikipedia_talk%3AFiles_for_deletion\n",
       "Disallow: /wiki/Wikipedia_talk:Files_for_discussion\n",
       "Disallow: /wiki/Wikipedia_talk%3AFiles_for_discussion\n",
       "Disallow: /wiki/Wikipedia_talk:Possibly_unfree_files\n",
       "Disallow: /wiki/Wikipedia_talk%3APossibly_unfree_files\n",
       "#\n",
       "Disallow: /wiki/Wikipedia:Copyright_problems\n",
       "Disallow: /wiki/Wikipedia%3ACopyright_problems\n",
       "Disallow: /wiki/Wikipedia_talk:Copyright_problems\n",
       "Disallow: /wiki/Wikipedia_talk%3ACopyright_problems\n",
       "Disallow: /wiki/Wikipedia:Suspected_copyright_violations\n",
       "Disallow: /wiki/Wikipedia%3ASuspected_copyright_violations\n",
       "Disallow: /wiki/Wikipedia_talk:Suspected_copyright_violations\n",
       "Disallow: /wiki/Wikipedia_talk%3ASuspected_copyright_violations\n",
       "Disallow: /wiki/Wikipedia:Contributor_copyright_investigations\n",
       "Disallow: /wiki/Wikipedia%3AContributor_copyright_investigations\n",
       "Disallow: /wiki/Wikipedia:Contributor_copyright_investigations\n",
       "Disallow: /wiki/Wikipedia%3AContributor_copyright_investigations\n",
       "Disallow: /wiki/Wikipedia_talk:Contributor_copyright_investigations\n",
       "Disallow: /wiki/Wikipedia_talk%3AContributor_copyright_investigations\n",
       "Disallow: /wiki/Wikipedia_talk:Contributor_copyright_investigations\n",
       "Disallow: /wiki/Wikipedia_talk%3AContributor_copyright_investigations\n",
       "Disallow: /wiki/Wikipedia:Protected_titles\n",
       "Disallow: /wiki/Wikipedia%3AProtected_titles\n",
       "Disallow: /wiki/Wikipedia_talk:Protected_titles\n",
       "Disallow: /wiki/Wikipedia_talk%3AProtected_titles\n",
       "Disallow: /wiki/Wikipedia:Articles_for_creation\n",
       "Disallow: /wiki/Wikipedia%3AArticles_for_creation\n",
       "Disallow: /wiki/Wikipedia_talk:Articles_for_creation\n",
       "Disallow: /wiki/Wikipedia_talk%3AArticles_for_creation\n",
       "Disallow: /wiki/Wikipedia_talk:Article_wizard\n",
       "Disallow: /wiki/Wikipedia_talk%3AArticle_wizard\n",
       "#\n",
       "# https://phabricator.wikimedia.org/T13261\n",
       "Disallow: /wiki/Wikipedia:Requests_for_arbitration\n",
       "Disallow: /wiki/Wikipedia%3ARequests_for_arbitration\n",
       "Disallow: /wiki/Wikipedia_talk:Requests_for_arbitration\n",
       "Disallow: /wiki/Wikipedia_talk%3ARequests_for_arbitration\n",
       "Disallow: /wiki/Wikipedia:Requests_for_comment\n",
       "Disallow: /wiki/Wikipedia%3ARequests_for_comment\n",
       "Disallow: /wiki/Wikipedia_talk:Requests_for_comment\n",
       "Disallow: /wiki/Wikipedia_talk%3ARequests_for_comment\n",
       "Disallow: /wiki/Wikipedia:Requests_for_adminship\n",
       "Disallow: /wiki/Wikipedia%3ARequests_for_adminship\n",
       "Disallow: /wiki/Wikipedia_talk:Requests_for_adminship\n",
       "Disallow: /wiki/Wikipedia_talk%3ARequests_for_adminship\n",
       "#\n",
       "# https://phabricator.wikimedia.org/T14111\n",
       "Disallow: /wiki/Wikipedia:Requests_for_checkuser\n",
       "Disallow: /wiki/Wikipedia%3ARequests_for_checkuser\n",
       "Disallow: /wiki/Wikipedia_talk:Requests_for_checkuser\n",
       "Disallow: /wiki/Wikipedia_talk%3ARequests_for_checkuser\n",
       "#\n",
       "# https://phabricator.wikimedia.org/T15398\n",
       "Disallow: /wiki/Wikipedia:WikiProject_Spam\n",
       "Disallow: /wiki/Wikipedia%3AWikiProject_Spam\n",
       "#\n",
       "# https://phabricator.wikimedia.org/T16793\n",
       "Disallow: /wiki/Wikipedia:Changing_username\n",
       "Disallow: /wiki/Wikipedia%3AChanging_username\n",
       "Disallow: /wiki/Wikipedia:Changing_username\n",
       "Disallow: /wiki/Wikipedia%3AChanging_username\n",
       "Disallow: /wiki/Wikipedia_talk:Changing_username\n",
       "Disallow: /wiki/Wikipedia_talk%3AChanging_username\n",
       "Disallow: /wiki/Wikipedia_talk:Changing_username\n",
       "Disallow: /wiki/Wikipedia_talk%3AChanging_username\n",
       "#\n",
       "Disallow: /wiki/Wikipedia:Administrators%27_noticeboard\n",
       "Disallow: /wiki/Wikipedia%3AAdministrators%27_noticeboard\n",
       "Disallow: /wiki/Wikipedia_talk:Administrators%27_noticeboard\n",
       "Disallow: /wiki/Wikipedia_talk%3AAdministrators%27_noticeboard\n",
       "Disallow: /wiki/Wikipedia:Community_sanction_noticeboard\n",
       "Disallow: /wiki/Wikipedia%3ACommunity_sanction_noticeboard\n",
       "Disallow: /wiki/Wikipedia_talk:Community_sanction_noticeboard\n",
       "Disallow: /wiki/Wikipedia_talk%3ACommunity_sanction_noticeboard\n",
       "Disallow: /wiki/Wikipedia:Bureaucrats%27_noticeboard\n",
       "Disallow: /wiki/Wikipedia%3ABureaucrats%27_noticeboard\n",
       "Disallow: /wiki/Wikipedia_talk:Bureaucrats%27_noticeboard\n",
       "Disallow: /wiki/Wikipedia_talk%3ABureaucrats%27_noticeboard\n",
       "#\n",
       "Disallow: /wiki/Wikipedia:Sockpuppet_investigations\n",
       "Disallow: /wiki/Wikipedia%3ASockpuppet_investigations\n",
       "Disallow: /wiki/Wikipedia_talk:Sockpuppet_investigations\n",
       "Disallow: /wiki/Wikipedia_talk%3ASockpuppet_investigations\n",
       "#\n",
       "Disallow: /wiki/Wikipedia:Neutral_point_of_view/Noticeboard\n",
       "Disallow: /wiki/Wikipedia%3ANeutral_point_of_view/Noticeboard\n",
       "Disallow: /wiki/Wikipedia_talk:Neutral_point_of_view/Noticeboard\n",
       "Disallow: /wiki/Wikipedia_talk%3ANeutral_point_of_view/Noticeboard\n",
       "#\n",
       "Disallow: /wiki/Wikipedia:No_original_research/noticeboard\n",
       "Disallow: /wiki/Wikipedia%3ANo_original_research/noticeboard\n",
       "Disallow: /wiki/Wikipedia_talk:No_original_research/noticeboard\n",
       "Disallow: /wiki/Wikipedia_talk%3ANo_original_research/noticeboard\n",
       "#\n",
       "Disallow: /wiki/Wikipedia:Fringe_theories/Noticeboard\n",
       "Disallow: /wiki/Wikipedia%3AFringe_theories/Noticeboard\n",
       "Disallow: /wiki/Wikipedia_talk:Fringe_theories/Noticeboard\n",
       "Disallow: /wiki/Wikipedia_talk%3AFringe_theories/Noticeboard\n",
       "#\n",
       "Disallow: /wiki/Wikipedia:Conflict_of_interest/Noticeboard\n",
       "Disallow: /wiki/Wikipedia%3AConflict_of_interest/Noticeboard\n",
       "Disallow: /wiki/Wikipedia_talk:Conflict_of_interest/Noticeboard\n",
       "Disallow: /wiki/Wikipedia_talk%3AConflict_of_interest/Noticeboard\n",
       "#\n",
       "Disallow: /wiki/Wikipedia:Long-term_abuse\n",
       "Disallow: /wiki/Wikipedia%3ALong-term_abuse\n",
       "Disallow: /wiki/Wikipedia_talk:Long-term_abuse\n",
       "Disallow: /wiki/Wikipedia_talk%3ALong-term_abuse\n",
       "Disallow: /wiki/Wikipedia:Long_term_abuse\n",
       "Disallow: /wiki/Wikipedia%3ALong_term_abuse\n",
       "Disallow: /wiki/Wikipedia_talk:Long_term_abuse\n",
       "Disallow: /wiki/Wikipedia_talk%3ALong_term_abuse\n",
       "#\n",
       "Disallow: /wiki/Wikipedia:Wikiquette_assistance\n",
       "Disallow: /wiki/Wikipedia%3AWikiquette_assistance\n",
       "#\n",
       "Disallow: /wiki/Wikipedia:Abuse_reports\n",
       "Disallow: /wiki/Wikipedia%3AAbuse_reports\n",
       "Disallow: /wiki/Wikipedia_talk:Abuse_reports\n",
       "Disallow: /wiki/Wikipedia_talk%3AAbuse_reports\n",
       "Disallow: /wiki/Wikipedia:Abuse_response\n",
       "Disallow: /wiki/Wikipedia%3AAbuse_response\n",
       "Disallow: /wiki/Wikipedia_talk:Abuse_response\n",
       "Disallow: /wiki/Wikipedia_talk%3AAbuse_response\n",
       "#\n",
       "Disallow: /wiki/Wikipedia:Reliable_sources/Noticeboard\n",
       "Disallow: /wiki/Wikipedia%3AReliable_sources/Noticeboard\n",
       "Disallow: /wiki/Wikipedia_talk:Reliable_sources/Noticeboard\n",
       "Disallow: /wiki/Wikipedia_talk%3AReliable_sources/Noticeboard\n",
       "#\n",
       "Disallow: /wiki/Wikipedia:Suspected_sock_puppets\n",
       "Disallow: /wiki/Wikipedia%3ASuspected_sock_puppets\n",
       "Disallow: /wiki/Wikipedia_talk:Suspected_sock_puppets\n",
       "Disallow: /wiki/Wikipedia_talk%3ASuspected_sock_puppets\n",
       "#\n",
       "Disallow: /wiki/Wikipedia:Biographies_of_living_persons/Noticeboard\n",
       "Disallow: /wiki/Wikipedia%3ABiographies_of_living_persons/Noticeboard\n",
       "Disallow: /wiki/Wikipedia_talk:Biographies_of_living_persons/Noticeboard\n",
       "Disallow: /wiki/Wikipedia_talk%3ABiographies_of_living_persons/Noticeboard\n",
       "#\n",
       "Disallow: /wiki/Wikipedia:Content_noticeboard\n",
       "Disallow: /wiki/Wikipedia%3AContent_noticeboard\n",
       "Disallow: /wiki/Wikipedia_talk:Content_noticeboard\n",
       "Disallow: /wiki/Wikipedia_talk%3AContent_noticeboard\n",
       "#\n",
       "Disallow: /wiki/Template:Editnotices\n",
       "Disallow: /wiki/Template%3AEditnotices\n",
       "#\n",
       "Disallow: /wiki/Wikipedia:Arbitration\n",
       "Disallow: /wiki/Wikipedia%3AArbitration\n",
       "Disallow: /wiki/Wikipedia_talk:Arbitration\n",
       "Disallow: /wiki/Wikipedia_talk%3AArbitration\n",
       "#\n",
       "Disallow: /wiki/Wikipedia:Arbitration_Committee\n",
       "Disallow: /wiki/Wikipedia%3AArbitration_Committee\n",
       "Disallow: /wiki/Wikipedia_talk:Arbitration_Committee\n",
       "Disallow: /wiki/Wikipedia_talk%3AArbitration_Committee\n",
       "#\n",
       "Disallow: /wiki/Wikipedia:Arbitration_Committee_Elections\n",
       "Disallow: /wiki/Wikipedia%3AArbitration_Committee_Elections\n",
       "Disallow: /wiki/Wikipedia_talk:Arbitration_Committee_Elections\n",
       "Disallow: /wiki/Wikipedia_talk%3AArbitration_Committee_Elections\n",
       "#\n",
       "Disallow: /wiki/Wikipedia:Mediation_Committee\n",
       "Disallow: /wiki/Wikipedia%3AMediation_Committee\n",
       "Disallow: /wiki/Wikipedia_talk:Mediation_Committee\n",
       "Disallow: /wiki/Wikipedia_talk%3AMediation_Committee\n",
       "#\n",
       "Disallow: /wiki/Wikipedia:Mediation_Cabal/Cases\n",
       "Disallow: /wiki/Wikipedia%3AMediation_Cabal/Cases\n",
       "#\n",
       "Disallow: /wiki/Wikipedia:Requests_for_bureaucratship\n",
       "Disallow: /wiki/Wikipedia%3ARequests_for_bureaucratship\n",
       "Disallow: /wiki/Wikipedia_talk:Requests_for_bureaucratship\n",
       "Disallow: /wiki/Wikipedia_talk%3ARequests_for_bureaucratship\n",
       "#\n",
       "Disallow: /wiki/Wikipedia:Administrator_review\n",
       "Disallow: /wiki/Wikipedia%3AAdministrator_review\n",
       "Disallow: /wiki/Wikipedia_talk:Administrator_review\n",
       "Disallow: /wiki/Wikipedia_talk%3AAdministrator_review\n",
       "#\n",
       "Disallow: /wiki/Wikipedia:Editor_review\n",
       "Disallow: /wiki/Wikipedia%3AEditor_review\n",
       "Disallow: /wiki/Wikipedia_talk:Editor_review\n",
       "Disallow: /wiki/Wikipedia_talk%3AEditor_review\n",
       "#\n",
       "Disallow: /wiki/Wikipedia:Article_Incubator\n",
       "Disallow: /wiki/Wikipedia%3AArticle_Incubator\n",
       "Disallow: /wiki/Wikipedia_talk:Article_Incubator\n",
       "Disallow: /wiki/Wikipedia_talk%3AArticle_Incubator\n",
       "#\n",
       "Disallow: /wiki/Category:Noindexed_pages\n",
       "Disallow: /wiki/Category%3ANoindexed_pages\n",
       "#\n",
       "# User sandboxes for modules are placed in these subpages for testing\n",
       "#\n",
       "Disallow: /wiki/Module:Sandbox\n",
       "Disallow: /wiki/Module%3ASandbox\n",
       "#\n",
       "# </pre></body></html>"
      ]
     },
     "execution_count": 2,
     "metadata": {},
     "output_type": "execute_result"
    }
   ],
   "source": [
    "url = \"https://en.wikipedia.org/robots.txt\"\n",
    "html = requests.get(url).content;\n",
    "soup = BeautifulSoup(html, \"lxml\");\n",
    "soup"
   ]
  },
  {
   "cell_type": "markdown",
   "metadata": {},
   "source": [
    "### 2. Display the name of the most recently added dataset on data.gov."
   ]
  },
  {
   "cell_type": "code",
   "execution_count": 49,
   "metadata": {},
   "outputs": [],
   "source": [
    "url ='http://catalog.data.gov/dataset?q=&sort=metadata_created+desc';\n",
    "html = requests.get(url).content;\n",
    "soup = BeautifulSoup(html, \"lxml\");"
   ]
  },
  {
   "cell_type": "code",
   "execution_count": 53,
   "metadata": {},
   "outputs": [
    {
     "data": {
      "text/plain": [
       "'Series Information File for the 2018 TIGER/Line Shapefile,  Current Secondary School Districts Shapefile State-based'"
      ]
     },
     "execution_count": 53,
     "metadata": {},
     "output_type": "execute_result"
    }
   ],
   "source": [
    "heading = soup.find_all('h3',{'class':'dataset-heading'})[0];\n",
    "title = heading.find_all('a')[0];\n",
    "title.text"
   ]
  },
  {
   "cell_type": "markdown",
   "metadata": {},
   "source": [
    "### 3. Number of datasets currently listed on data.gov "
   ]
  },
  {
   "cell_type": "code",
   "execution_count": 58,
   "metadata": {},
   "outputs": [],
   "source": [
    "url = 'http://www.data.gov/';\n",
    "html = requests.get(url).content;\n",
    "soup = BeautifulSoup(html, \"lxml\");"
   ]
  },
  {
   "cell_type": "code",
   "execution_count": 63,
   "metadata": {},
   "outputs": [
    {
     "data": {
      "text/plain": [
       "304217"
      ]
     },
     "execution_count": 63,
     "metadata": {},
     "output_type": "execute_result"
    }
   ],
   "source": [
    "labels = soup.find_all(href=re.compile(\"metrics\"))[0];\n",
    "n_datasets = int(\"\".join((re.findall('[0-9]', labels.text))));\n",
    "n_datasets"
   ]
  },
  {
   "cell_type": "markdown",
   "metadata": {},
   "source": [
    "### 4. Display all the image links from Walt Disney wikipedia page"
   ]
  },
  {
   "cell_type": "code",
   "execution_count": 85,
   "metadata": {},
   "outputs": [],
   "source": [
    "url = 'https://en.wikipedia.org/wiki/Walt_Disney'\n",
    "html = requests.get(url).content;\n",
    "soup = BeautifulSoup(html, \"lxml\");"
   ]
  },
  {
   "cell_type": "code",
   "execution_count": 86,
   "metadata": {},
   "outputs": [],
   "source": [
    "image_links = soup.find_all('a',{'class':'image'});\n",
    "images = soup.find_all('img');"
   ]
  },
  {
   "cell_type": "code",
   "execution_count": 87,
   "metadata": {},
   "outputs": [
    {
     "name": "stdout",
     "output_type": "stream",
     "text": [
      "//upload.wikimedia.org/wikipedia/en/thumb/e/e7/Cscr-featured.svg/20px-Cscr-featured.svg.png\n",
      "//upload.wikimedia.org/wikipedia/en/thumb/1/1b/Semi-protection-shackle.svg/20px-Semi-protection-shackle.svg.png\n",
      "//upload.wikimedia.org/wikipedia/commons/thumb/d/df/Walt_Disney_1946.JPG/220px-Walt_Disney_1946.JPG\n",
      "//upload.wikimedia.org/wikipedia/commons/thumb/8/87/Walt_Disney_1942_signature.svg/150px-Walt_Disney_1942_signature.svg.png\n",
      "//upload.wikimedia.org/wikipedia/commons/thumb/c/c4/Walt_Disney_envelope_ca._1921.jpg/220px-Walt_Disney_envelope_ca._1921.jpg\n",
      "//upload.wikimedia.org/wikipedia/commons/thumb/4/4d/Newman_Laugh-O-Gram_%281921%29.webm/220px-seek%3D2-Newman_Laugh-O-Gram_%281921%29.webm.jpg\n",
      "//upload.wikimedia.org/wikipedia/commons/thumb/0/0d/Trolley_Troubles_poster.jpg/170px-Trolley_Troubles_poster.jpg\n",
      "//upload.wikimedia.org/wikipedia/en/thumb/4/4e/Steamboat-willie.jpg/170px-Steamboat-willie.jpg\n",
      "//upload.wikimedia.org/wikipedia/commons/thumb/5/57/Walt_Disney_1935.jpg/170px-Walt_Disney_1935.jpg\n",
      "//upload.wikimedia.org/wikipedia/commons/thumb/c/cd/Walt_Disney_Snow_white_1937_trailer_screenshot_%2813%29.jpg/220px-Walt_Disney_Snow_white_1937_trailer_screenshot_%2813%29.jpg\n",
      "//upload.wikimedia.org/wikipedia/commons/thumb/1/15/Disney_drawing_goofy.jpg/170px-Disney_drawing_goofy.jpg\n",
      "//upload.wikimedia.org/wikipedia/commons/thumb/1/13/DisneySchiphol1951.jpg/220px-DisneySchiphol1951.jpg\n",
      "//upload.wikimedia.org/wikipedia/commons/thumb/8/8c/WaltDisneyplansDisneylandDec1954.jpg/220px-WaltDisneyplansDisneylandDec1954.jpg\n",
      "//upload.wikimedia.org/wikipedia/commons/thumb/f/ff/Walt_disney_portrait_right.jpg/170px-Walt_disney_portrait_right.jpg\n",
      "//upload.wikimedia.org/wikipedia/commons/thumb/1/1a/Walt_Disney_Grave.JPG/170px-Walt_Disney_Grave.JPG\n",
      "//upload.wikimedia.org/wikipedia/commons/thumb/2/2d/Roy_O._Disney_with_Company_at_Press_Conference.jpg/170px-Roy_O._Disney_with_Company_at_Press_Conference.jpg\n",
      "//upload.wikimedia.org/wikipedia/commons/thumb/a/a9/Disney_Display_Case.JPG/170px-Disney_Display_Case.JPG\n",
      "//upload.wikimedia.org/wikipedia/commons/thumb/6/6c/Disney1968.jpg/170px-Disney1968.jpg\n",
      "//upload.wikimedia.org/wikipedia/commons/thumb/7/73/Blue_pencil.svg/10px-Blue_pencil.svg.png\n",
      "//upload.wikimedia.org/wikipedia/en/thumb/6/69/P_vip.svg/29px-P_vip.svg.png\n",
      "//upload.wikimedia.org/wikipedia/en/thumb/e/e7/Video-x-generic.svg/30px-Video-x-generic.svg.png\n",
      "//upload.wikimedia.org/wikipedia/commons/thumb/a/a3/Flag_of_Los_Angeles_County%2C_California.svg/30px-Flag_of_Los_Angeles_County%2C_California.svg.png\n",
      "//upload.wikimedia.org/wikipedia/commons/thumb/a/a3/USA_flag_on_television.svg/30px-USA_flag_on_television.svg.png\n",
      "//upload.wikimedia.org/wikipedia/en/thumb/4/4a/Commons-logo.svg/22px-Commons-logo.svg.png\n",
      "//upload.wikimedia.org/wikipedia/commons/thumb/f/fa/Wikiquote-logo.svg/25px-Wikiquote-logo.svg.png\n",
      "//upload.wikimedia.org/wikipedia/commons/thumb/f/ff/Wikidata-logo.svg/30px-Wikidata-logo.svg.png\n",
      "//upload.wikimedia.org/wikipedia/commons/thumb/7/73/Blue_pencil.svg/10px-Blue_pencil.svg.png\n",
      "//en.wikipedia.org/wiki/Special:CentralAutoLogin/start?type=1x1\n",
      "/static/images/wikimedia-button.png\n",
      "/static/images/poweredby_mediawiki_88x31.png\n"
     ]
    }
   ],
   "source": [
    "for image in images:\n",
    "    print(image.attrs['src']);"
   ]
  },
  {
   "cell_type": "markdown",
   "metadata": {},
   "source": [
    "### 5. Retrieve an arbitary Wikipedia page of \"Python\" and create a list of links on that page"
   ]
  },
  {
   "cell_type": "code",
   "execution_count": 11,
   "metadata": {},
   "outputs": [],
   "source": [
    "# This is the url you will scrape in this exercise\n",
    "url ='https://en.wikipedia.org/wiki/Python' "
   ]
  },
  {
   "cell_type": "code",
   "execution_count": 7,
   "metadata": {},
   "outputs": [],
   "source": [
    "#your code"
   ]
  },
  {
   "cell_type": "markdown",
   "metadata": {},
   "source": [
    "### 6. Number of Titles that have changed in the United States Code since its last release point "
   ]
  },
  {
   "cell_type": "code",
   "execution_count": 13,
   "metadata": {},
   "outputs": [],
   "source": [
    "# This is the url you will scrape in this exercise\n",
    "url = 'http://uscode.house.gov/download/download.shtml'"
   ]
  },
  {
   "cell_type": "code",
   "execution_count": 8,
   "metadata": {},
   "outputs": [],
   "source": [
    "#your code"
   ]
  },
  {
   "cell_type": "markdown",
   "metadata": {},
   "source": [
    "### 7. A Python list with the top ten FBI's Most Wanted names "
   ]
  },
  {
   "cell_type": "code",
   "execution_count": 15,
   "metadata": {},
   "outputs": [],
   "source": [
    "# This is the url you will scrape in this exercise\n",
    "url = 'https://www.fbi.gov/wanted/topten'"
   ]
  },
  {
   "cell_type": "code",
   "execution_count": 9,
   "metadata": {},
   "outputs": [],
   "source": [
    "#your code "
   ]
  },
  {
   "cell_type": "markdown",
   "metadata": {},
   "source": [
    "### 8.  20 latest earthquakes info (date, time, latitude, longitude and region name) by the EMSC as a pandas dataframe"
   ]
  },
  {
   "cell_type": "code",
   "execution_count": 32,
   "metadata": {},
   "outputs": [],
   "source": [
    "# This is the url you will scrape in this exercise\n",
    "url = 'https://www.emsc-csem.org/Earthquake/'"
   ]
  },
  {
   "cell_type": "code",
   "execution_count": 10,
   "metadata": {},
   "outputs": [],
   "source": [
    "#your code"
   ]
  },
  {
   "cell_type": "markdown",
   "metadata": {},
   "source": [
    "### 9. Display the date, days, title, city, country of next 25 Hackevents as a table"
   ]
  },
  {
   "cell_type": "code",
   "execution_count": 35,
   "metadata": {},
   "outputs": [],
   "source": [
    "# This is the url you will scrape in this exercise\n",
    "url ='https://hackevents.co/hackathons'"
   ]
  },
  {
   "cell_type": "code",
   "execution_count": 11,
   "metadata": {},
   "outputs": [],
   "source": [
    "#your code"
   ]
  },
  {
   "cell_type": "markdown",
   "metadata": {},
   "source": [
    "### 10. Count number of tweets by a given Twitter account."
   ]
  },
  {
   "cell_type": "markdown",
   "metadata": {},
   "source": [
    "You will need to include a ***try/except block*** for account names not found. \n",
    "<br>***Hint:*** the program should count the number of tweets for any provided account"
   ]
  },
  {
   "cell_type": "code",
   "execution_count": 52,
   "metadata": {},
   "outputs": [],
   "source": [
    "# This is the url you will scrape in this exercise \n",
    "# You will need to add the account credentials to this url\n",
    "url = 'https://twitter.com/'"
   ]
  },
  {
   "cell_type": "code",
   "execution_count": 12,
   "metadata": {},
   "outputs": [],
   "source": [
    "#your code"
   ]
  },
  {
   "cell_type": "markdown",
   "metadata": {},
   "source": [
    "### 11.Number of followers of a given twitter account"
   ]
  },
  {
   "cell_type": "markdown",
   "metadata": {},
   "source": [
    "You will need to include a ***try/except block*** in case account/s name not found. \n",
    "<br>***Hint:*** the program should count the followers for any provided account"
   ]
  },
  {
   "cell_type": "code",
   "execution_count": 51,
   "metadata": {},
   "outputs": [],
   "source": [
    "# This is the url you will scrape in this exercise \n",
    "# You will need to add the account credentials to this url\n",
    "url = 'https://twitter.com/'"
   ]
  },
  {
   "cell_type": "code",
   "execution_count": 13,
   "metadata": {},
   "outputs": [],
   "source": [
    "#your code"
   ]
  },
  {
   "cell_type": "markdown",
   "metadata": {},
   "source": [
    "### 12. List all language names and number of related articles in the order they appear in wikipedia.org"
   ]
  },
  {
   "cell_type": "code",
   "execution_count": 39,
   "metadata": {},
   "outputs": [],
   "source": [
    "# This is the url you will scrape in this exercise\n",
    "url = 'https://www.wikipedia.org/'"
   ]
  },
  {
   "cell_type": "code",
   "execution_count": 14,
   "metadata": {},
   "outputs": [],
   "source": [
    "#your code"
   ]
  },
  {
   "cell_type": "markdown",
   "metadata": {},
   "source": [
    "### 13. A list with the different kind of datasets available in data.gov.uk "
   ]
  },
  {
   "cell_type": "code",
   "execution_count": 5,
   "metadata": {},
   "outputs": [],
   "source": [
    "# This is the url you will scrape in this exercise\n",
    "url = 'https://data.gov.uk/'"
   ]
  },
  {
   "cell_type": "code",
   "execution_count": 15,
   "metadata": {},
   "outputs": [],
   "source": [
    "#your code "
   ]
  },
  {
   "cell_type": "markdown",
   "metadata": {},
   "source": [
    "### 14. The total number of publications produced by the GAO (U.S. Government Accountability Office)"
   ]
  },
  {
   "cell_type": "code",
   "execution_count": 45,
   "metadata": {},
   "outputs": [],
   "source": [
    "# This is the url you will scrape in this exercise\n",
    "url = 'http://www.gao.gov/browse/date/custom'"
   ]
  },
  {
   "cell_type": "code",
   "execution_count": 16,
   "metadata": {},
   "outputs": [],
   "source": [
    "#your code "
   ]
  },
  {
   "cell_type": "markdown",
   "metadata": {},
   "source": [
    "### 15. Top 10 languages by number of native speakers stored in a Pandas Dataframe"
   ]
  },
  {
   "cell_type": "code",
   "execution_count": 27,
   "metadata": {},
   "outputs": [],
   "source": [
    "# This is the url you will scrape in this exercise\n",
    "url = 'https://en.wikipedia.org/wiki/List_of_languages_by_number_of_native_speakers'"
   ]
  },
  {
   "cell_type": "code",
   "execution_count": 17,
   "metadata": {},
   "outputs": [],
   "source": [
    "#your code"
   ]
  },
  {
   "cell_type": "markdown",
   "metadata": {},
   "source": [
    "### BONUS QUESTIONS"
   ]
  },
  {
   "cell_type": "markdown",
   "metadata": {},
   "source": [
    "### 16. Scrape a certain number of tweets of a given Twitter account."
   ]
  },
  {
   "cell_type": "code",
   "execution_count": 53,
   "metadata": {},
   "outputs": [],
   "source": [
    "# This is the url you will scrape in this exercise \n",
    "# You will need to add the account credentials to this url\n",
    "url = 'https://twitter.com/'"
   ]
  },
  {
   "cell_type": "code",
   "execution_count": 19,
   "metadata": {},
   "outputs": [],
   "source": [
    "# your code"
   ]
  },
  {
   "cell_type": "markdown",
   "metadata": {},
   "source": [
    "### 17. IMDB's Top 250 data (movie name, Initial release, director name and stars) as a pandas dataframe"
   ]
  },
  {
   "cell_type": "code",
   "execution_count": 35,
   "metadata": {},
   "outputs": [],
   "source": [
    "# This is the url you will scrape in this exercise \n",
    "url = 'https://www.imdb.com/chart/top'"
   ]
  },
  {
   "cell_type": "code",
   "execution_count": 20,
   "metadata": {},
   "outputs": [],
   "source": [
    "# your code"
   ]
  },
  {
   "cell_type": "markdown",
   "metadata": {},
   "source": [
    "### 18. Movie name, year and a brief summary of the top 10 random movies (IMDB) as a pandas dataframe."
   ]
  },
  {
   "cell_type": "code",
   "execution_count": 54,
   "metadata": {},
   "outputs": [],
   "source": [
    "#This is the url you will scrape in this exercise\n",
    "url = 'http://www.imdb.com/chart/top'"
   ]
  },
  {
   "cell_type": "code",
   "execution_count": 21,
   "metadata": {},
   "outputs": [],
   "source": [
    "#your code"
   ]
  },
  {
   "cell_type": "markdown",
   "metadata": {},
   "source": [
    "### 19. Find the live weather report (temperature, wind speed, description and weather) of a given city."
   ]
  },
  {
   "cell_type": "code",
   "execution_count": null,
   "metadata": {},
   "outputs": [],
   "source": [
    "#https://openweathermap.org/current\n",
    "city = city=input('Enter the city:')\n",
    "url = 'http://api.openweathermap.org/data/2.5/weather?'+'q='+city+'&APPID=b35975e18dc93725acb092f7272cc6b8&units=metric'"
   ]
  },
  {
   "cell_type": "code",
   "execution_count": 22,
   "metadata": {},
   "outputs": [],
   "source": [
    "# your code"
   ]
  },
  {
   "cell_type": "markdown",
   "metadata": {},
   "source": [
    "### 20. Book name,price and stock availability as a pandas dataframe."
   ]
  },
  {
   "cell_type": "code",
   "execution_count": 55,
   "metadata": {},
   "outputs": [],
   "source": [
    "# This is the url you will scrape in this exercise. \n",
    "# It is a fictional bookstore created to be scraped. \n",
    "url = 'http://books.toscrape.com/'"
   ]
  },
  {
   "cell_type": "code",
   "execution_count": 23,
   "metadata": {},
   "outputs": [],
   "source": [
    "#your code"
   ]
  }
 ],
 "metadata": {
  "kernelspec": {
   "display_name": "ironhack-3.7",
   "language": "python",
   "name": "ironhack-3.7"
  },
  "language_info": {
   "codemirror_mode": {
    "name": "ipython",
    "version": 3
   },
   "file_extension": ".py",
   "mimetype": "text/x-python",
   "name": "python",
   "nbconvert_exporter": "python",
   "pygments_lexer": "ipython3",
   "version": "3.7.2"
  }
 },
 "nbformat": 4,
 "nbformat_minor": 2
}
