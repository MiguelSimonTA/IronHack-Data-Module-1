{
 "cells": [
  {
   "cell_type": "markdown",
   "metadata": {},
   "source": [
    "# Lab | Numpy Deep Dive"
   ]
  },
  {
   "cell_type": "markdown",
   "metadata": {},
   "source": [
    "**1\\. Import the NUMPY package under the name np.**"
   ]
  },
  {
   "cell_type": "code",
   "execution_count": 288,
   "metadata": {},
   "outputs": [],
   "source": [
    "import numpy as np;"
   ]
  },
  {
   "cell_type": "markdown",
   "metadata": {},
   "source": [
    "**2\\. Print the NUMPY version and the configuration.**"
   ]
  },
  {
   "cell_type": "code",
   "execution_count": 289,
   "metadata": {},
   "outputs": [
    {
     "name": "stdout",
     "output_type": "stream",
     "text": [
      "1.15.4\n"
     ]
    }
   ],
   "source": [
    "print(np.version.version);"
   ]
  },
  {
   "cell_type": "markdown",
   "metadata": {},
   "source": [
    "**3\\. Generate a 2x3x5 3-dimensional array with random values. Assign the array to variable \"a\".**\n",
    "\n",
    "**Challenge: there are at least three easy ways that use numpy to generate random arrays. How many ways can you find?**\n",
    "\n"
   ]
  },
  {
   "cell_type": "code",
   "execution_count": 290,
   "metadata": {},
   "outputs": [],
   "source": [
    "a = np.random.randint(10, size = (2,3,5));\n",
    "a = np.random.rand(2,3,5);\n",
    "a = np.random.random((2,3,5));"
   ]
  },
  {
   "cell_type": "markdown",
   "metadata": {},
   "source": [
    "There are many ways to generate random samples. More can be found here: [Random sampling with NumPy](https://docs.scipy.org/doc/numpy-1.14.1/reference/routines.random.html)\n"
   ]
  },
  {
   "cell_type": "markdown",
   "metadata": {},
   "source": [
    "**4\\. Print a.**"
   ]
  },
  {
   "cell_type": "code",
   "execution_count": 291,
   "metadata": {},
   "outputs": [
    {
     "name": "stdout",
     "output_type": "stream",
     "text": [
      "[[[0.39710984 0.15710628 0.08751183 0.23144221 0.76265726]\n",
      "  [0.60080638 0.96939632 0.88241606 0.73277615 0.42741788]\n",
      "  [0.4689832  0.88249894 0.77202558 0.52478669 0.99062469]]\n",
      "\n",
      " [[0.01821587 0.80211227 0.58996401 0.42462446 0.41255853]\n",
      "  [0.64650034 0.82988423 0.88052258 0.26082866 0.36086414]\n",
      "  [0.52805015 0.96642267 0.57791751 0.24901811 0.83058673]]]\n"
     ]
    }
   ],
   "source": [
    "print(a);"
   ]
  },
  {
   "cell_type": "markdown",
   "metadata": {},
   "source": [
    "**5\\. Create a 5x2x3 3-dimensional array with all values equaling 1. Assign the array to variable \"b\".**"
   ]
  },
  {
   "cell_type": "code",
   "execution_count": 292,
   "metadata": {},
   "outputs": [],
   "source": [
    "b = np.ones((5,2,3));"
   ]
  },
  {
   "cell_type": "markdown",
   "metadata": {},
   "source": [
    "**6\\. Print b.**"
   ]
  },
  {
   "cell_type": "code",
   "execution_count": 293,
   "metadata": {},
   "outputs": [
    {
     "name": "stdout",
     "output_type": "stream",
     "text": [
      "[[[1. 1. 1.]\n",
      "  [1. 1. 1.]]\n",
      "\n",
      " [[1. 1. 1.]\n",
      "  [1. 1. 1.]]\n",
      "\n",
      " [[1. 1. 1.]\n",
      "  [1. 1. 1.]]\n",
      "\n",
      " [[1. 1. 1.]\n",
      "  [1. 1. 1.]]\n",
      "\n",
      " [[1. 1. 1.]\n",
      "  [1. 1. 1.]]]\n"
     ]
    }
   ],
   "source": [
    "print(b);"
   ]
  },
  {
   "cell_type": "markdown",
   "metadata": {},
   "source": [
    "**7\\. Do a and b have the same size? How do you prove that in Python code?**"
   ]
  },
  {
   "cell_type": "markdown",
   "metadata": {},
   "source": [
    "Yes, they have the same size."
   ]
  },
  {
   "cell_type": "code",
   "execution_count": 294,
   "metadata": {},
   "outputs": [
    {
     "name": "stdout",
     "output_type": "stream",
     "text": [
      "True\n"
     ]
    }
   ],
   "source": [
    "print(a.size == b.size);"
   ]
  },
  {
   "cell_type": "markdown",
   "metadata": {},
   "source": [
    "**8\\. Are you able to add a and b? Why or why not?**"
   ]
  },
  {
   "cell_type": "markdown",
   "metadata": {},
   "source": [
    "No, because even though they have the same size, they don't have the same shape. The shape of a is (3,2,3,5) while the shape of b is (3,5,2,3)."
   ]
  },
  {
   "cell_type": "code",
   "execution_count": 295,
   "metadata": {},
   "outputs": [
    {
     "name": "stdout",
     "output_type": "stream",
     "text": [
      "False\n"
     ]
    }
   ],
   "source": [
    "print(a.shape == b.shape);"
   ]
  },
  {
   "cell_type": "markdown",
   "metadata": {},
   "source": [
    "If we try to add a and b, we get an error."
   ]
  },
  {
   "cell_type": "code",
   "execution_count": 296,
   "metadata": {},
   "outputs": [
    {
     "ename": "ValueError",
     "evalue": "operands could not be broadcast together with shapes (2,3,5) (5,2,3) ",
     "output_type": "error",
     "traceback": [
      "\u001b[0;31m---------------------------------------------------------------------------\u001b[0m",
      "\u001b[0;31mValueError\u001b[0m                                Traceback (most recent call last)",
      "\u001b[0;32m<ipython-input-296-5e7325de08a8>\u001b[0m in \u001b[0;36m<module>\u001b[0;34m\u001b[0m\n\u001b[0;32m----> 1\u001b[0;31m \u001b[0mnp\u001b[0m\u001b[0;34m.\u001b[0m\u001b[0madd\u001b[0m\u001b[0;34m(\u001b[0m\u001b[0ma\u001b[0m\u001b[0;34m,\u001b[0m \u001b[0mb\u001b[0m\u001b[0;34m)\u001b[0m\u001b[0;34m;\u001b[0m\u001b[0;34m\u001b[0m\u001b[0;34m\u001b[0m\u001b[0m\n\u001b[0m",
      "\u001b[0;31mValueError\u001b[0m: operands could not be broadcast together with shapes (2,3,5) (5,2,3) "
     ]
    }
   ],
   "source": [
    "np.add(a, b);"
   ]
  },
  {
   "cell_type": "markdown",
   "metadata": {},
   "source": [
    "**9\\. Transpose b so that it has the same structure of a (i.e. become a 2x3x5 array). Assign the transposed array to varialbe \"c\".**"
   ]
  },
  {
   "cell_type": "code",
   "execution_count": 297,
   "metadata": {},
   "outputs": [
    {
     "name": "stdout",
     "output_type": "stream",
     "text": [
      "(2, 3, 5) - (5, 2, 3)\n"
     ]
    }
   ],
   "source": [
    "print(a.shape, '-', b.shape);"
   ]
  },
  {
   "cell_type": "code",
   "execution_count": 298,
   "metadata": {},
   "outputs": [],
   "source": [
    "c = np.transpose(b, [1, 2, 0]);"
   ]
  },
  {
   "cell_type": "code",
   "execution_count": 299,
   "metadata": {},
   "outputs": [
    {
     "name": "stdout",
     "output_type": "stream",
     "text": [
      "(2, 3, 5) - (2, 3, 5)\n"
     ]
    }
   ],
   "source": [
    "print(a.shape, '-', c.shape);"
   ]
  },
  {
   "cell_type": "markdown",
   "metadata": {},
   "source": [
    "**10\\. Try to add a and c. Now it should work. Assign the sum to varialbe \"d\". But why does it work now?**"
   ]
  },
  {
   "cell_type": "markdown",
   "metadata": {},
   "source": [
    "It works because now the two arrays have the same shape, therefore they can be added."
   ]
  },
  {
   "cell_type": "code",
   "execution_count": 300,
   "metadata": {},
   "outputs": [],
   "source": [
    "d = np.add(a,c);"
   ]
  },
  {
   "cell_type": "markdown",
   "metadata": {},
   "source": [
    "**11\\. Print a and d. Notice the difference and relation of the two array in terms of the values? Explain.**"
   ]
  },
  {
   "cell_type": "markdown",
   "metadata": {},
   "source": [
    "The relation between terms in a and d is: \n",
    "\n",
    "d[n][m][p] = a[n][m][p] + c[n][m][p] \n",
    "\n",
    "when c[n][m][p] = 1, n = {0,1}, m = {0,1,2}, p = {0,1,2,3,4}.\n",
    "\n",
    "We add one to every element in a. "
   ]
  },
  {
   "cell_type": "code",
   "execution_count": 301,
   "metadata": {},
   "outputs": [
    {
     "name": "stdout",
     "output_type": "stream",
     "text": [
      "A\n",
      "[[[0.39710984 0.15710628 0.08751183 0.23144221 0.76265726]\n",
      "  [0.60080638 0.96939632 0.88241606 0.73277615 0.42741788]\n",
      "  [0.4689832  0.88249894 0.77202558 0.52478669 0.99062469]]\n",
      "\n",
      " [[0.01821587 0.80211227 0.58996401 0.42462446 0.41255853]\n",
      "  [0.64650034 0.82988423 0.88052258 0.26082866 0.36086414]\n",
      "  [0.52805015 0.96642267 0.57791751 0.24901811 0.83058673]]]\n",
      "D\n",
      "[[[1.39710984 1.15710628 1.08751183 1.23144221 1.76265726]\n",
      "  [1.60080638 1.96939632 1.88241606 1.73277615 1.42741788]\n",
      "  [1.4689832  1.88249894 1.77202558 1.52478669 1.99062469]]\n",
      "\n",
      " [[1.01821587 1.80211227 1.58996401 1.42462446 1.41255853]\n",
      "  [1.64650034 1.82988423 1.88052258 1.26082866 1.36086414]\n",
      "  [1.52805015 1.96642267 1.57791751 1.24901811 1.83058673]]]\n"
     ]
    }
   ],
   "source": [
    "print('A');\n",
    "print(a);\n",
    "print('D');\n",
    "print(d);"
   ]
  },
  {
   "cell_type": "markdown",
   "metadata": {},
   "source": [
    "**12\\. Multiply a and c. Assign the result to e.**\n"
   ]
  },
  {
   "cell_type": "code",
   "execution_count": 302,
   "metadata": {},
   "outputs": [],
   "source": [
    "e = np.multiply(a,c);"
   ]
  },
  {
   "cell_type": "markdown",
   "metadata": {},
   "source": [
    "**13\\. Does e equal to a? Why or why not?**"
   ]
  },
  {
   "cell_type": "markdown",
   "metadata": {},
   "source": [
    "Yes. The relation between terms in a and e is: \n",
    "\n",
    "e[n][m][p] = a[n][m][p] * c[n][m][p]\n",
    "\n",
    "when c[n][m][p] = 1, n = {0,1}, m = {0,1,2}, p = {0,1,2,3,4}.\n",
    "\n",
    "We multiply by 1 every element in a, so the resulting array e should be equal to a."
   ]
  },
  {
   "cell_type": "code",
   "execution_count": 303,
   "metadata": {},
   "outputs": [
    {
     "name": "stdout",
     "output_type": "stream",
     "text": [
      "[[[ True  True  True  True  True]\n",
      "  [ True  True  True  True  True]\n",
      "  [ True  True  True  True  True]]\n",
      "\n",
      " [[ True  True  True  True  True]\n",
      "  [ True  True  True  True  True]\n",
      "  [ True  True  True  True  True]]]\n"
     ]
    }
   ],
   "source": [
    "print(a == e);"
   ]
  },
  {
   "cell_type": "markdown",
   "metadata": {},
   "source": [
    "**14\\. Identify the max, min, and mean values in d. Assign those values to variables \"d_max\", \"d_min\", and \"d_mean\"**"
   ]
  },
  {
   "cell_type": "code",
   "execution_count": 304,
   "metadata": {},
   "outputs": [],
   "source": [
    "d_max = np.max(d);\n",
    "d_min = np.min(d);\n",
    "d_mean = np.mean(d);"
   ]
  },
  {
   "cell_type": "code",
   "execution_count": 305,
   "metadata": {},
   "outputs": [
    {
     "name": "stdout",
     "output_type": "stream",
     "text": [
      "MAX:   1.99062469068988\n",
      "MIN:   1.0182158684842428\n",
      "MEAN:  1.575520985533566\n"
     ]
    }
   ],
   "source": [
    "print('MAX:  ', d_max);\n",
    "print('MIN:  ', d_min);\n",
    "print('MEAN: ', d_mean);"
   ]
  },
  {
   "cell_type": "markdown",
   "metadata": {},
   "source": [
    "**15\\. Now we want to label the values in d. First create an empty array \"f\" with the same shape (i.e. 2x3x5) as d using `np.empty`.**"
   ]
  },
  {
   "cell_type": "code",
   "execution_count": 306,
   "metadata": {},
   "outputs": [],
   "source": [
    "f = np.empty((2, 3, 5), dtype=np.int8);"
   ]
  },
  {
   "cell_type": "markdown",
   "metadata": {},
   "source": [
    "**16\\. Populate the values in f. For each value in d, if it's larger than d_min but smaller than d_mean, assign 25 to the corresponding value in f.\n",
    "If a value in d is larger than d_mean but smaller than d_max, assign 75 to the corresponding value in f.\n",
    "If a value equals to d_mean, assign 50 to the corresponding value in f.\n",
    "Assign 0 to the corresponding value(s) in f for d_min in d.\n",
    "Assign 100 to the corresponding value(s) in f for d_max in d.\n",
    "In the end, f should have only the following values: 0, 25, 50, 75, and 100.\n",
    "Note: you don't have to use Numpy in this question.**"
   ]
  },
  {
   "cell_type": "code",
   "execution_count": 307,
   "metadata": {},
   "outputs": [],
   "source": [
    "it = np.nditer(d, flags=['multi_index']);\n",
    "while not it.finished:\n",
    "    if it[0] == d_min:\n",
    "        f[it.multi_index] = 0;\n",
    "    elif it[0] > d_min and it[0] < d_mean:\n",
    "        f[it.multi_index] = 25;\n",
    "    elif it[0] == d_mean:\n",
    "        f[it.multi_index] = 50;\n",
    "    elif it[0] > d_mean and it[0] < d_max:\n",
    "        f[it.multi_index] = 75;\n",
    "    else:\n",
    "        f[it.multi_index] = 100;\n",
    "    it.iternext()"
   ]
  },
  {
   "cell_type": "markdown",
   "metadata": {},
   "source": [
    "**17\\. Print d and f. Do you have your expected f?**"
   ]
  },
  {
   "cell_type": "markdown",
   "metadata": {},
   "source": [
    "Yes!"
   ]
  },
  {
   "cell_type": "code",
   "execution_count": 308,
   "metadata": {},
   "outputs": [
    {
     "name": "stdout",
     "output_type": "stream",
     "text": [
      "D\n",
      "[[[1.39710984 1.15710628 1.08751183 1.23144221 1.76265726]\n",
      "  [1.60080638 1.96939632 1.88241606 1.73277615 1.42741788]\n",
      "  [1.4689832  1.88249894 1.77202558 1.52478669 1.99062469]]\n",
      "\n",
      " [[1.01821587 1.80211227 1.58996401 1.42462446 1.41255853]\n",
      "  [1.64650034 1.82988423 1.88052258 1.26082866 1.36086414]\n",
      "  [1.52805015 1.96642267 1.57791751 1.24901811 1.83058673]]]\n",
      "F\n",
      "[[[ 25  25  25  25  75]\n",
      "  [ 75  75  75  75  25]\n",
      "  [ 25  75  75  25 100]]\n",
      "\n",
      " [[  0  75  75  25  25]\n",
      "  [ 75  75  75  25  25]\n",
      "  [ 25  75  75  25  75]]]\n"
     ]
    }
   ],
   "source": [
    "print('D');\n",
    "print(d);\n",
    "print('F');\n",
    "print(f);"
   ]
  },
  {
   "cell_type": "markdown",
   "metadata": {},
   "source": [
    "**18\\. Bonus question: instead of using numbers (i.e. 0, 25, 50, 75, and 100), how to use string values \n",
    "(\"A\", \"B\", \"C\", \"D\", and \"E\") to label the array elements?**"
   ]
  },
  {
   "cell_type": "code",
   "execution_count": 309,
   "metadata": {},
   "outputs": [],
   "source": [
    "g = np.empty((2, 3, 5), dtype=str);\n",
    "it = np.nditer(d, flags=['multi_index']);\n",
    "while not it.finished:\n",
    "    if it[0] == d_min:\n",
    "        g[it.multi_index] = 'A';\n",
    "    elif it[0] > d_min and it[0] < d_mean:\n",
    "        g[it.multi_index] = 'B';\n",
    "    elif it[0] == d_mean:\n",
    "        g[it.multi_index] = 'C';\n",
    "    elif it[0] > d_mean and it[0] < d_max:\n",
    "        g[it.multi_index] = 'D';\n",
    "    else:\n",
    "        g[it.multi_index] = 'E';\n",
    "    it.iternext()"
   ]
  },
  {
   "cell_type": "code",
   "execution_count": 311,
   "metadata": {},
   "outputs": [
    {
     "name": "stdout",
     "output_type": "stream",
     "text": [
      "G\n",
      "[[['B' 'B' 'B' 'B' 'D']\n",
      "  ['D' 'D' 'D' 'D' 'B']\n",
      "  ['B' 'D' 'D' 'B' 'E']]\n",
      "\n",
      " [['A' 'D' 'D' 'B' 'B']\n",
      "  ['D' 'D' 'D' 'B' 'B']\n",
      "  ['B' 'D' 'D' 'B' 'D']]]\n"
     ]
    }
   ],
   "source": [
    "print('G');\n",
    "print(g);"
   ]
  }
 ],
 "metadata": {
  "kernelspec": {
   "display_name": "ironhack-3.7",
   "language": "python",
   "name": "ironhack-3.7"
  },
  "language_info": {
   "codemirror_mode": {
    "name": "ipython",
    "version": 3
   },
   "file_extension": ".py",
   "mimetype": "text/x-python",
   "name": "python",
   "nbconvert_exporter": "python",
   "pygments_lexer": "ipython3",
   "version": "3.7.2"
  }
 },
 "nbformat": 4,
 "nbformat_minor": 2
}
